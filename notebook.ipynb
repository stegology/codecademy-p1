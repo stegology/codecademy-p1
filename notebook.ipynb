{
 "cells": [
  {
   "cell_type": "markdown",
   "metadata": {},
   "source": [
    "# Codecademy Health Insurance\n",
    "## Data Science Capstone Project\n",
    "### This project is about comparing differences in health insurance charges.\n",
    "\n",
    "This code is analyzing the data from a file called `'codecademy-insurance.csv'` which contains information about insurance charges for different clients. It first imports the csv module and creates an empty list called `codecademy_insurance`. The code then opens the csv file and reads each row of data into a `dictionary` in the `list`. \n",
    "\n",
    "Next, it creates a function called `average()` which returns the sum of a list of numbers divided by the length of the list. \n",
    "\n",
    "The code then creates two empty lists, `male_charges` and `female_charges`, and iterates over the list of dictionaries. It checks the value of the `'sex'` key in each dictionary and, depending on the value, appends the corresponding `'charges'` value to the appropriate list. \n",
    "\n",
    "It then calculates the average of each list and prints a message comparing the two averages depending on which is larger."
   ]
  },
  {
   "cell_type": "code",
   "execution_count": 41,
   "metadata": {},
   "outputs": [
    {
     "name": "stdout",
     "output_type": "stream",
     "text": [
      "The average male Insurance costs are 13956.75 and the average female Insurance costs are 12569.58\n",
      "On average, men pay $13956.75, which is $1387.17 more than women.\n"
     ]
    }
   ],
   "source": [
    "import csv\n",
    "\n",
    "codecademy_insurance = []\n",
    "\n",
    "\n",
    "with open('data/codecademy-insurance.csv', mode = 'r', newline = '', encoding = 'utf-8') as file:\n",
    "    csv_reader = csv.DictReader(file)\n",
    "    for row in csv_reader:\n",
    "        codecademy_insurance.append(row)\n",
    "    \n",
    "def average(numbers):\n",
    "    return sum(numbers) / len(numbers)\n",
    "\n",
    "male_charges = []\n",
    "female_charges = []\n",
    "\n",
    "for row in codecademy_insurance:\n",
    "    if row['sex'] == 'male':\n",
    "        male_charges.append(float(row['charges']))\n",
    "    else:\n",
    "        female_charges.append(float(row['charges']))\n",
    "\n",
    "avg_male_charges = average(male_charges)\n",
    "avg_female_charges = average(female_charges)\n",
    "\n",
    "\n"
   ]
  },
  {
   "cell_type": "markdown",
   "metadata": {},
   "source": [
    "#### Reporting\n",
    "I like to keep my reporting in a seperate cell so I can report things without recalculating big operations on a table (memory-expensive). Try and get to the Cheese in the least amount of Mouse Moves while exerting Mouse Legs the least!"
   ]
  },
  {
   "cell_type": "code",
   "execution_count": 43,
   "metadata": {},
   "outputs": [
    {
     "name": "stdout",
     "output_type": "stream",
     "text": [
      "The average male Insurance costs are $13956.75 and the average female Insurance costs are $12569.58\n",
      "On average, men pay $13956.75, which is $1387.17 more than women.\n"
     ]
    }
   ],
   "source": [
    "print(f\"The average male Insurance costs are ${avg_male_charges:.2f} and the average female Insurance costs are ${avg_female_charges:.2f}\")\n",
    "\n",
    "if avg_male_charges > avg_female_charges:\n",
    "    print(f\"On average, men pay ${avg_male_charges:.2f}, which is ${(avg_male_charges-avg_female_charges):.2f} more than women.\")\n",
    "else:\n",
    "    print(f\"On average, women pay ${avg_female_charges:.2f}, which is ${(avg_male_charges-avg_female_charges):.2f} more than men.\")"
   ]
  }
 ],
 "metadata": {
  "kernelspec": {
   "display_name": "Python 3.9.6 64-bit",
   "language": "python",
   "name": "python3"
  },
  "language_info": {
   "codemirror_mode": {
    "name": "ipython",
    "version": 3
   },
   "file_extension": ".py",
   "mimetype": "text/x-python",
   "name": "python",
   "nbconvert_exporter": "python",
   "pygments_lexer": "ipython3",
   "version": "3.9.6"
  },
  "orig_nbformat": 4,
  "vscode": {
   "interpreter": {
    "hash": "31f2aee4e71d21fbe5cf8b01ff0e069b9275f58929596ceb00d14d90e3e16cd6"
   }
  }
 },
 "nbformat": 4,
 "nbformat_minor": 2
}
